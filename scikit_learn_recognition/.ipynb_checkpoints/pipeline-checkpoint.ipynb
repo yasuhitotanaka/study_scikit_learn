{
 "cells": [
  {
   "cell_type": "code",
   "execution_count": 1,
   "metadata": {},
   "outputs": [],
   "source": [
    "import numpy as np\n",
    "\n",
    "import matplotlib.pyplot as plt\n",
    "%matplotlib inline"
   ]
  },
  {
   "cell_type": "code",
   "execution_count": 2,
   "metadata": {},
   "outputs": [],
   "source": [
    "from sklearn.datasets import load_breast_cancer\n",
    "data = load_breast_cancer()\n",
    "X = data.data\n",
    "y = data.target"
   ]
  },
  {
   "cell_type": "code",
   "execution_count": 3,
   "metadata": {},
   "outputs": [],
   "source": [
    "from sklearn.model_selection import ShuffleSplit\n",
    "ss = ShuffleSplit(n_splits=1, \n",
    "                  train_size=0.8, \n",
    "                  test_size=0.2, \n",
    "                  random_state=0)\n",
    "\n",
    "train_index, test_index = next(ss.split(X, y))\n",
    "\n",
    "X_train, X_test = X[train_index], X[test_index]\n",
    "y_train, y_test = y[train_index], y[test_index]"
   ]
  },
  {
   "cell_type": "code",
   "execution_count": 4,
   "metadata": {},
   "outputs": [],
   "source": [
    "from sklearn.decomposition import PCA\n",
    "\n",
    "pca = PCA(whiten=True)\n",
    "pca.fit(X_train)\n",
    "X_train_pca = pca.transform(X_train)\n",
    "X_test_pca = pca.transform(X_test)"
   ]
  },
  {
   "cell_type": "code",
   "execution_count": 10,
   "metadata": {},
   "outputs": [],
   "source": [
    "from sklearn.linear_model import LogisticRegression\n",
    "clf = LogisticRegression()"
   ]
  },
  {
   "cell_type": "code",
   "execution_count": 11,
   "metadata": {},
   "outputs": [
    {
     "data": {
      "text/plain": [
       "0.956140350877193"
      ]
     },
     "execution_count": 11,
     "metadata": {},
     "output_type": "execute_result"
    }
   ],
   "source": [
    "clf.fit(X_train, y_train)\n",
    "clf.score(X_test, y_test)"
   ]
  },
  {
   "cell_type": "code",
   "execution_count": 12,
   "metadata": {},
   "outputs": [
    {
     "data": {
      "text/plain": [
       "0.9649122807017544"
      ]
     },
     "execution_count": 12,
     "metadata": {},
     "output_type": "execute_result"
    }
   ],
   "source": [
    "clf.fit(X_train_pca, y_train)\n",
    "clf.score(X_test_pca, y_test)"
   ]
  },
  {
   "cell_type": "code",
   "execution_count": 13,
   "metadata": {},
   "outputs": [],
   "source": [
    "# pipelineで一括処理\n",
    "from sklearn.pipeline import Pipeline\n",
    "\n",
    "estimators = [('pca', PCA(whiten=True)),\n",
    "                   ('clf', LogisticRegression())]\n",
    "pipe = Pipeline(estimators)"
   ]
  },
  {
   "cell_type": "code",
   "execution_count": 14,
   "metadata": {},
   "outputs": [
    {
     "data": {
      "text/plain": [
       "0.9649122807017544"
      ]
     },
     "execution_count": 14,
     "metadata": {},
     "output_type": "execute_result"
    }
   ],
   "source": [
    "pipe.fit(X_train, y_train)\n",
    "pipe.score(X_test, y_test)"
   ]
  },
  {
   "cell_type": "code",
   "execution_count": 15,
   "metadata": {},
   "outputs": [],
   "source": [
    "from sklearn.preprocessing import MinMaxScaler\n",
    "from sklearn.svm import SVC\n",
    "\n",
    "estimators = [('mms', MinMaxScaler()),\n",
    "                     ('clf', SVC(kernel='rbf', C=1e10))]\n",
    "pipe = Pipeline(estimators)"
   ]
  },
  {
   "cell_type": "code",
   "execution_count": 16,
   "metadata": {},
   "outputs": [
    {
     "data": {
      "text/plain": [
       "Pipeline(memory=None,\n",
       "     steps=[('mms', MinMaxScaler(copy=True, feature_range=(0, 1))), ('clf', SVC(C=10000000000.0, cache_size=200, class_weight=None, coef0=0.0,\n",
       "  decision_function_shape='ovr', degree=3, gamma='auto', kernel='rbf',\n",
       "  max_iter=-1, probability=False, random_state=None, shrinking=True,\n",
       "  tol=0.001, verbose=False))])"
      ]
     },
     "execution_count": 16,
     "metadata": {},
     "output_type": "execute_result"
    }
   ],
   "source": [
    "pipe.fit(X_train, y_train)"
   ]
  },
  {
   "cell_type": "code",
   "execution_count": 17,
   "metadata": {},
   "outputs": [
    {
     "data": {
      "text/plain": [
       "0.9824561403508771"
      ]
     },
     "execution_count": 17,
     "metadata": {},
     "output_type": "execute_result"
    }
   ],
   "source": [
    "pipe.score(X_test, y_test)"
   ]
  },
  {
   "cell_type": "markdown",
   "metadata": {},
   "source": [
    "# GridSearchとPipeLineの合わせ技"
   ]
  },
  {
   "cell_type": "code",
   "execution_count": 18,
   "metadata": {},
   "outputs": [],
   "source": [
    "estimators = [('pca', PCA(whiten=True)), \n",
    "              ('clf', LogisticRegression())]\n",
    "pipe = Pipeline(estimators)"
   ]
  },
  {
   "cell_type": "code",
   "execution_count": 21,
   "metadata": {},
   "outputs": [
    {
     "data": {
      "text/plain": [
       "GridSearchCV(cv=None, error_score='raise',\n",
       "       estimator=Pipeline(memory=None,\n",
       "     steps=[('pca', PCA(copy=True, iterated_power='auto', n_components=None, random_state=None,\n",
       "  svd_solver='auto', tol=0.0, whiten=True)), ('clf', LogisticRegression(C=1.0, class_weight=None, dual=False, fit_intercept=True,\n",
       "          intercept_scaling=1, max_iter=100, multi_class='ovr', n_jobs=1,\n",
       "          penalty='l2', random_state=None, solver='liblinear', tol=0.0001,\n",
       "          verbose=0, warm_start=False))]),\n",
       "       fit_params=None, iid=True, n_jobs=1,\n",
       "       param_grid={'clf__C': [1e-05, 0.001, 0.01, 1, 100.0, 100000.0, 10000000000.0]},\n",
       "       pre_dispatch='2*n_jobs', refit=True, return_train_score='warn',\n",
       "       scoring=None, verbose=0)"
      ]
     },
     "execution_count": 21,
     "metadata": {},
     "output_type": "execute_result"
    }
   ],
   "source": [
    "from sklearn.model_selection import GridSearchCV\n",
    "\n",
    "# paramの書き方が異なる。以下の形式にしないと、GridSearchCVに渡せない\n",
    "\n",
    "# 形式\n",
    "# estimatorsで指定した名前__指定したいパラメータ(clf__C)：パラメータ郡（リスト）[1e-5, 1e-3....]\n",
    "\n",
    "param = {'clf__C':[1e-5, 1e-3, 1e-2, 1, 1e2, 1e5, 1e10]} # clf.C\n",
    "\n",
    "gs = GridSearchCV(pipe, param) # GridSearchCVに直接pipeオブジェクトを渡せる！\n",
    "gs.fit(X_train, y_train)"
   ]
  },
  {
   "cell_type": "code",
   "execution_count": 20,
   "metadata": {},
   "outputs": [
    {
     "data": {
      "text/plain": [
       "({'clf__C': 1}, 0.9560439560439561, Pipeline(memory=None,\n",
       "      steps=[('pca', PCA(copy=True, iterated_power='auto', n_components=None, random_state=None,\n",
       "   svd_solver='auto', tol=0.0, whiten=True)), ('clf', LogisticRegression(C=1, class_weight=None, dual=False, fit_intercept=True,\n",
       "           intercept_scaling=1, max_iter=100, multi_class='ovr', n_jobs=1,\n",
       "           penalty='l2', random_state=None, solver='liblinear', tol=0.0001,\n",
       "           verbose=0, warm_start=False))]))"
      ]
     },
     "execution_count": 20,
     "metadata": {},
     "output_type": "execute_result"
    }
   ],
   "source": [
    "gs.best_params_, gs.best_score_, gs.best_estimator_"
   ]
  },
  {
   "cell_type": "code",
   "execution_count": null,
   "metadata": {},
   "outputs": [],
   "source": []
  },
  {
   "cell_type": "code",
   "execution_count": 24,
   "metadata": {},
   "outputs": [
    {
     "name": "stdout",
     "output_type": "stream",
     "text": [
      "Fitting 3 folds for each of 10 candidates, totalling 30 fits\n"
     ]
    },
    {
     "name": "stderr",
     "output_type": "stream",
     "text": [
      "[Parallel(n_jobs=2)]: Done  30 out of  30 | elapsed:  2.1min finished\n"
     ]
    },
    {
     "data": {
      "text/plain": [
       "RandomizedSearchCV(cv=None, error_score='raise',\n",
       "          estimator=Pipeline(memory=None,\n",
       "     steps=[('pca', PCA(copy=True, iterated_power='auto', n_components=None, random_state=None,\n",
       "  svd_solver='auto', tol=0.0, whiten=False)), ('clf', SVC(C=1.0, cache_size=200, class_weight=None, coef0=0.0,\n",
       "  decision_function_shape='ovr', degree=3, gamma='auto', kernel='rbf',\n",
       "  max_iter=-1, probability=False, random_state=None, shrinking=True,\n",
       "  tol=0.001, verbose=False))]),\n",
       "          fit_params=None, iid=True, n_iter=10, n_jobs=2,\n",
       "          param_distributions={'clf__C': [0.001, 0.01, 1, 100.0, 1000.0], 'clf__kernel': ['linear', 'rbf'], 'pca__whiten': [True, False], 'pca__n_components': [30, 20, 10]},\n",
       "          pre_dispatch='2*n_jobs', random_state=None, refit=True,\n",
       "          return_train_score='warn', scoring=None, verbose=2)"
      ]
     },
     "execution_count": 24,
     "metadata": {},
     "output_type": "execute_result"
    }
   ],
   "source": [
    "from sklearn.svm import SVC\n",
    "\n",
    "C_range = [1e-3, 1e-2, 1, 1e2, 1e3]\n",
    "\n",
    "param = {\n",
    "    'clf__C': C_range,\n",
    "    'clf__kernel': ['linear', 'rbf'],\n",
    "    'pca__whiten':[True, False],\n",
    "    'pca__n_components': [30, 20, 10]\n",
    "}\n",
    "\n",
    "estimators = [('pca', PCA()), ('clf', SVC())]\n",
    "\n",
    "pipe = Pipeline(estimators)\n",
    "\n",
    "\n",
    "from sklearn.model_selection import RandomizedSearchCV\n",
    "\n",
    "gs = RandomizedSearchCV(pipe, param, n_jobs=2, verbose=2)\n",
    "gs.fit(X_train, y_train)"
   ]
  },
  {
   "cell_type": "code",
   "execution_count": 25,
   "metadata": {},
   "outputs": [
    {
     "data": {
      "text/plain": [
       "({'pca__whiten': True,\n",
       "  'pca__n_components': 20,\n",
       "  'clf__kernel': 'linear',\n",
       "  'clf__C': 1},\n",
       " 0.9626373626373627,\n",
       " Pipeline(memory=None,\n",
       "      steps=[('pca', PCA(copy=True, iterated_power='auto', n_components=20, random_state=None,\n",
       "   svd_solver='auto', tol=0.0, whiten=True)), ('clf', SVC(C=1, cache_size=200, class_weight=None, coef0=0.0,\n",
       "   decision_function_shape='ovr', degree=3, gamma='auto', kernel='linear',\n",
       "   max_iter=-1, probability=False, random_state=None, shrinking=True,\n",
       "   tol=0.001, verbose=False))]))"
      ]
     },
     "execution_count": 25,
     "metadata": {},
     "output_type": "execute_result"
    }
   ],
   "source": [
    "gs.best_params_, gs.best_score_, gs.best_estimator_"
   ]
  },
  {
   "cell_type": "code",
   "execution_count": 26,
   "metadata": {},
   "outputs": [
    {
     "data": {
      "text/plain": [
       "0.9649122807017544"
      ]
     },
     "execution_count": 26,
     "metadata": {},
     "output_type": "execute_result"
    }
   ],
   "source": [
    "gs.score(X_test, y_test)"
   ]
  },
  {
   "cell_type": "code",
   "execution_count": 27,
   "metadata": {},
   "outputs": [
    {
     "name": "stderr",
     "output_type": "stream",
     "text": [
      "C:\\ProgramData\\Anaconda3\\lib\\site-packages\\sklearn\\utils\\deprecation.py:122: FutureWarning: You are accessing a training score ('split0_train_score'), which will not be available by default any more in 0.21. If you need training scores, please set return_train_score=True\n",
      "  warnings.warn(*warn_args, **warn_kwargs)\n",
      "C:\\ProgramData\\Anaconda3\\lib\\site-packages\\sklearn\\utils\\deprecation.py:122: FutureWarning: You are accessing a training score ('split1_train_score'), which will not be available by default any more in 0.21. If you need training scores, please set return_train_score=True\n",
      "  warnings.warn(*warn_args, **warn_kwargs)\n",
      "C:\\ProgramData\\Anaconda3\\lib\\site-packages\\sklearn\\utils\\deprecation.py:122: FutureWarning: You are accessing a training score ('split2_train_score'), which will not be available by default any more in 0.21. If you need training scores, please set return_train_score=True\n",
      "  warnings.warn(*warn_args, **warn_kwargs)\n",
      "C:\\ProgramData\\Anaconda3\\lib\\site-packages\\sklearn\\utils\\deprecation.py:122: FutureWarning: You are accessing a training score ('mean_train_score'), which will not be available by default any more in 0.21. If you need training scores, please set return_train_score=True\n",
      "  warnings.warn(*warn_args, **warn_kwargs)\n",
      "C:\\ProgramData\\Anaconda3\\lib\\site-packages\\sklearn\\utils\\deprecation.py:122: FutureWarning: You are accessing a training score ('std_train_score'), which will not be available by default any more in 0.21. If you need training scores, please set return_train_score=True\n",
      "  warnings.warn(*warn_args, **warn_kwargs)\n"
     ]
    },
    {
     "data": {
      "text/plain": [
       "{'mean_fit_time': array([5.11577924e-02, 5.00655174e-03, 5.79767954e+01, 1.60410404e-02,\n",
       "        4.67220942e-03, 1.57070160e-02, 4.00876999e-03, 5.68302472e-03,\n",
       "        6.01228078e-03, 1.04143405e+00]),\n",
       " 'std_fit_time': array([1.71552383e-02, 8.18899923e-04, 4.49236487e+01, 8.18773487e-04,\n",
       "        4.69843493e-04, 1.25025104e-03, 1.18411894e-06, 4.73965595e-04,\n",
       "        8.18876584e-04, 2.87414157e-01]),\n",
       " 'mean_score_time': array([0.00952737, 0.00133681, 0.00100406, 0.00534749, 0.00066868,\n",
       "        0.00601633, 0.00100358, 0.00133491, 0.0010035 , 0.00033458]),\n",
       " 'std_score_time': array([1.20533805e-02, 4.73056388e-04, 6.25769923e-07, 4.73393763e-04,\n",
       "        4.72831444e-04, 4.49566384e-07, 1.12391596e-07, 4.69178728e-04,\n",
       "        0.00000000e+00, 4.73168619e-04]),\n",
       " 'param_pca__whiten': masked_array(data=[True, True, False, False, False, False, True, True,\n",
       "                    False, False],\n",
       "              mask=[False, False, False, False, False, False, False, False,\n",
       "                    False, False],\n",
       "        fill_value='?',\n",
       "             dtype=object),\n",
       " 'param_pca__n_components': masked_array(data=[10, 20, 30, 20, 10, 30, 10, 30, 20, 30],\n",
       "              mask=[False, False, False, False, False, False, False, False,\n",
       "                    False, False],\n",
       "        fill_value='?',\n",
       "             dtype=object),\n",
       " 'param_clf__kernel': masked_array(data=['linear', 'linear', 'linear', 'rbf', 'linear', 'rbf',\n",
       "                    'rbf', 'linear', 'linear', 'linear'],\n",
       "              mask=[False, False, False, False, False, False, False, False,\n",
       "                    False, False],\n",
       "        fill_value='?',\n",
       "             dtype=object),\n",
       " 'param_clf__C': masked_array(data=[100.0, 1, 1000.0, 100.0, 0.001, 1000.0, 100.0, 0.01,\n",
       "                    0.001, 1],\n",
       "              mask=[False, False, False, False, False, False, False, False,\n",
       "                    False, False],\n",
       "        fill_value='?',\n",
       "             dtype=object),\n",
       " 'params': [{'pca__whiten': True,\n",
       "   'pca__n_components': 10,\n",
       "   'clf__kernel': 'linear',\n",
       "   'clf__C': 100.0},\n",
       "  {'pca__whiten': True,\n",
       "   'pca__n_components': 20,\n",
       "   'clf__kernel': 'linear',\n",
       "   'clf__C': 1},\n",
       "  {'pca__whiten': False,\n",
       "   'pca__n_components': 30,\n",
       "   'clf__kernel': 'linear',\n",
       "   'clf__C': 1000.0},\n",
       "  {'pca__whiten': False,\n",
       "   'pca__n_components': 20,\n",
       "   'clf__kernel': 'rbf',\n",
       "   'clf__C': 100.0},\n",
       "  {'pca__whiten': False,\n",
       "   'pca__n_components': 10,\n",
       "   'clf__kernel': 'linear',\n",
       "   'clf__C': 0.001},\n",
       "  {'pca__whiten': False,\n",
       "   'pca__n_components': 30,\n",
       "   'clf__kernel': 'rbf',\n",
       "   'clf__C': 1000.0},\n",
       "  {'pca__whiten': True,\n",
       "   'pca__n_components': 10,\n",
       "   'clf__kernel': 'rbf',\n",
       "   'clf__C': 100.0},\n",
       "  {'pca__whiten': True,\n",
       "   'pca__n_components': 30,\n",
       "   'clf__kernel': 'linear',\n",
       "   'clf__C': 0.01},\n",
       "  {'pca__whiten': False,\n",
       "   'pca__n_components': 20,\n",
       "   'clf__kernel': 'linear',\n",
       "   'clf__C': 0.001},\n",
       "  {'pca__whiten': False,\n",
       "   'pca__n_components': 30,\n",
       "   'clf__kernel': 'linear',\n",
       "   'clf__C': 1}],\n",
       " 'split0_test_score': array([0.96710526, 0.95394737, 0.96710526, 0.63815789, 0.94736842,\n",
       "        0.63815789, 0.96710526, 0.94736842, 0.94736842, 0.97368421]),\n",
       " 'split1_test_score': array([0.91447368, 0.94736842, 0.94736842, 0.63815789, 0.90789474,\n",
       "        0.63815789, 0.94078947, 0.94078947, 0.90789474, 0.92763158]),\n",
       " 'split2_test_score': array([0.95364238, 0.98675497, 0.94039735, 0.63576159, 0.95364238,\n",
       "        0.63576159, 0.94039735, 0.94039735, 0.95364238, 0.94701987]),\n",
       " 'mean_test_score': array([0.94505495, 0.96263736, 0.95164835, 0.63736264, 0.93626374,\n",
       "        0.63736264, 0.94945055, 0.94285714, 0.93626374, 0.94945055]),\n",
       " 'std_test_score': array([0.02234557, 0.01720888, 0.01131117, 0.00112838, 0.0202554 ,\n",
       "        0.00112838, 0.01250537, 0.00319922, 0.0202554 , 0.01889936]),\n",
       " 'rank_test_score': array([5, 1, 2, 9, 7, 9, 3, 6, 7, 3]),\n",
       " 'split0_train_score': array([0.9669967 , 0.99009901, 0.98019802, 1.        , 0.96039604,\n",
       "        1.        , 1.        , 0.94059406, 0.96039604, 0.97359736]),\n",
       " 'split1_train_score': array([0.98349835, 0.99339934, 1.        , 1.        , 0.96369637,\n",
       "        1.        , 1.        , 0.94059406, 0.96369637, 0.98349835]),\n",
       " 'split2_train_score': array([0.97368421, 0.98026316, 0.97368421, 1.        , 0.94736842,\n",
       "        1.        , 1.        , 0.9375    , 0.94736842, 0.97368421]),\n",
       " 'mean_train_score': array([0.97472642, 0.9879205 , 0.98462741, 1.        , 0.95715361,\n",
       "        1.        , 1.        , 0.93956271, 0.95715361, 0.97692664]),\n",
       " 'std_train_score': array([0.00677696, 0.00557968, 0.01119062, 0.        , 0.00704914,\n",
       "        0.        , 0.        , 0.00145855, 0.00704914, 0.00464704])}"
      ]
     },
     "execution_count": 27,
     "metadata": {},
     "output_type": "execute_result"
    }
   ],
   "source": [
    "gs.cv_results_"
   ]
  }
 ],
 "metadata": {
  "kernelspec": {
   "display_name": "Python 3",
   "language": "python",
   "name": "python3"
  },
  "language_info": {
   "codemirror_mode": {
    "name": "ipython",
    "version": 3
   },
   "file_extension": ".py",
   "mimetype": "text/x-python",
   "name": "python",
   "nbconvert_exporter": "python",
   "pygments_lexer": "ipython3",
   "version": "3.6.5"
  }
 },
 "nbformat": 4,
 "nbformat_minor": 2
}
